{
 "cells": [
  {
   "cell_type": "markdown",
   "metadata": {},
   "source": [
    "# Import Libraries"
   ]
  },
  {
   "cell_type": "code",
   "execution_count": 9,
   "metadata": {},
   "outputs": [],
   "source": [
    "from transformers import AutoModelForSequenceClassification, AutoTokenizer\n",
    "import numpy as np\n",
    "from scipy.special import softmax\n",
    "import csv\n",
    "import urllib.request\n",
    "import pandas as pd\n",
    "from tqdm import tqdm\n",
    "\n",
    "tqdm.pandas()"
   ]
  },
  {
   "cell_type": "markdown",
   "metadata": {},
   "source": [
    "# Generate Sentiment"
   ]
  },
  {
   "cell_type": "code",
   "execution_count": 15,
   "metadata": {},
   "outputs": [],
   "source": [
    "def preprocess(text):\n",
    "    \"\"\" Preprocess text (username and link placeholders)\n",
    "    \n",
    "    Parameters\n",
    "    ===========\n",
    "    text       : str\n",
    "                 text to preprocess\n",
    "    \n",
    "    Returns\n",
    "    ==========\n",
    "    preprocess :  str\n",
    "                  preprocessed text\n",
    "    \"\"\"\n",
    "    new_text = []\n",
    "\n",
    "    for t in text.split(\" \"):\n",
    "        t = '@user' if t.startswith('@') and len(t) > 1 else t\n",
    "        t = 'http' if t.startswith('http') else t\n",
    "        new_text.append(t)\n",
    "    return \" \".join(new_text)\n",
    "\n",
    "def load_models():\n",
    "    \"\"\" load models, tokenizers, label mapping from huggingface hub\n",
    "    \n",
    "    Returns\n",
    "    =========\n",
    "    model   :   RobertaForSequenceClassification\n",
    "                pre-trained model for sentiment classifier\n",
    "    tokenizer : RobertaTokenizerFast\n",
    "                tokenizer used for the model\n",
    "    labels    : list\n",
    "                list of classes for sentiment classifier\n",
    "    \"\"\"\n",
    "    MODEL = f\"cardiffnlp/twitter-roberta-base-sentiment\"\n",
    "\n",
    "    # Load the model from your local directory\n",
    "    model = AutoModelForSequenceClassification.from_pretrained(MODEL)\n",
    "\n",
    "    # Load the tokenizer\n",
    "    tokenizer = AutoTokenizer.from_pretrained(MODEL)\n",
    "\n",
    "    # Download label mapping\n",
    "    labels = []\n",
    "    mapping_link = f\"https://raw.githubusercontent.com/cardiffnlp/tweeteval/main/datasets/sentiment/mapping.txt\"\n",
    "    with urllib.request.urlopen(mapping_link) as f:\n",
    "        html = f.read().decode('utf-8').split(\"\\n\")\n",
    "        csvreader = csv.reader(html, delimiter='\\t')\n",
    "        labels = [row[1] for row in csvreader if len(row) > 1]\n",
    "        \n",
    "    return model, tokenizer, labels\n",
    "\n",
    "def generate_sentiment(text, model, tokenizer, labels):\n",
    "    \"\"\" generate sentiment with confidence score given the text\n",
    "    \n",
    "    Parameters\n",
    "    ============\n",
    "    text    :   str\n",
    "                input text to get sentiment\n",
    "    \n",
    "    Returns\n",
    "    ===========\n",
    "    generate_sentiment : tuple\n",
    "                         label string and confidence score\n",
    "    \"\"\"\n",
    "    # preprocess text\n",
    "    text = preprocess(text)\n",
    "    \n",
    "    # tokenize\n",
    "    encoded_input = tokenizer(text, return_tensors='pt')\n",
    "    \n",
    "    # get sentiments\n",
    "    output = model(**encoded_input)\n",
    "    scores = output.logits[0].detach().numpy()\n",
    "    scores = softmax(scores)\n",
    "\n",
    "    ranking = np.argsort(scores)\n",
    "    ranking = ranking[::-1]\n",
    "    \n",
    "    return labels[ranking[0]], scores[ranking[0]]\n"
   ]
  },
  {
   "cell_type": "code",
   "execution_count": 16,
   "metadata": {},
   "outputs": [
    {
     "name": "stderr",
     "output_type": "stream",
     "text": [
      "100%|████████████████████████████████████████████████████████████████████████████████| 498/498 [01:11<00:00,  6.92it/s]\n"
     ]
    }
   ],
   "source": [
    "df = pd.read_csv(\"sentiment_test_cases.csv\")\n",
    "model, tokenizer, labels = load_models()\n",
    "sentiments = df[\"text\"].progress_apply(lambda x: generate_sentiment(x, model, tokenizer, labels))\n"
   ]
  },
  {
   "cell_type": "code",
   "execution_count": 29,
   "metadata": {},
   "outputs": [],
   "source": [
    "df[\"model_output\"] = sentiments.apply(lambda x: x[0])\n",
    "df[\"confidence_score\"] = sentiments.apply(lambda x: round(x[1] * 100, 2))\n",
    "df.to_csv(\"output_sentiment_test.csv\", index=False)"
   ]
  },
  {
   "cell_type": "markdown",
   "metadata": {},
   "source": [
    "# Evaluate Accuracy with test data"
   ]
  },
  {
   "cell_type": "code",
   "execution_count": 30,
   "metadata": {},
   "outputs": [],
   "source": [
    "df = pd.read_csv(\"output_sentiment_test.csv\")"
   ]
  },
  {
   "cell_type": "code",
   "execution_count": 31,
   "metadata": {},
   "outputs": [
    {
     "name": "stdout",
     "output_type": "stream",
     "text": [
      "Accuracy: 84.0%\n"
     ]
    }
   ],
   "source": [
    "accuracy = round((df[\"expected_sentiment\"] == df[\"model_output\"]).mean(), 2)\n",
    "print(f\"Accuracy: {accuracy * 100}%\")"
   ]
  }
 ],
 "metadata": {
  "kernelspec": {
   "display_name": "Python 3",
   "language": "python",
   "name": "python3"
  },
  "language_info": {
   "codemirror_mode": {
    "name": "ipython",
    "version": 3
   },
   "file_extension": ".py",
   "mimetype": "text/x-python",
   "name": "python",
   "nbconvert_exporter": "python",
   "pygments_lexer": "ipython3",
   "version": "3.7.6"
  }
 },
 "nbformat": 4,
 "nbformat_minor": 4
}
